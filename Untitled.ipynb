{
 "cells": [
  {
   "cell_type": "markdown",
   "id": "advised-victim",
   "metadata": {},
   "source": [
    "**Textures**"
   ]
  },
  {
   "cell_type": "code",
   "execution_count": 1,
   "id": "approved-investigation",
   "metadata": {},
   "outputs": [],
   "source": [
    "# convert .png to .dds\n",
    "from wand import image\n",
    "import os\n",
    "your_path = \"C:/Program Files (x86)/Steam/steamapps/common/PAYDAY 2/mods/pain_simulation_payday/assets/guis/textures\"\n",
    "\n",
    "for dirpath, dirs, files in os.walk(your_path):\n",
    "    for filename in files:\n",
    "        if '.png' in filename:\n",
    "            with image.Image(filename = os.path.join(dirpath, filename)) as img:\n",
    "                img.compression = 'dxt5'\n",
    "                img.save(filename=os.path.join(dirpath, filename.replace('.png', '.dds')))"
   ]
  },
  {
   "cell_type": "code",
   "execution_count": 2,
   "id": "southeast-carpet",
   "metadata": {},
   "outputs": [],
   "source": [
    "# rename .texture files to .dds in a given folder\n",
    "\n",
    "original_fileending = '.dds'\n",
    "new_fileending = '.texture'\n",
    "\n",
    "#sounds: .stream .ogg\n",
    "#visual: .texture .dds\n",
    "\n",
    "your_path = \"C:/Program Files (x86)/Steam/steamapps/common/PAYDAY 2/mods/pain_simulation_payday/assets/guis/textures\"\n",
    "import os\n",
    "for dirpath, dirs, files in os.walk(your_path):\n",
    "    \n",
    "    for filename in files:\n",
    "        if original_fileending in filename:\n",
    "            oldfilepath = os.path.join(dirpath, filename)\n",
    "            newfilepath = os.path.join(dirpath, filename.replace(original_fileending, new_fileending))\n",
    "            if os.path.exists(newfilepath):\n",
    "                os.remove(newfilepath)\n",
    "            os.rename(oldfilepath, newfilepath)"
   ]
  },
  {
   "cell_type": "markdown",
   "id": "democratic-deviation",
   "metadata": {},
   "source": [
    "**Sound Clips**"
   ]
  },
  {
   "cell_type": "code",
   "execution_count": 7,
   "id": "swedish-hammer",
   "metadata": {},
   "outputs": [
    {
     "name": "stdout",
     "output_type": "stream",
     "text": [
      "150837__toxicwafflezz__bullet-impact-1.ogg\n",
      "150838__toxicwafflezz__bullet-impact-2.ogg\n",
      "150839__toxicwafflezz__bullet-impact-3.ogg\n",
      "180491__vincentoliver__boneclicks-goresquelches-16.ogg\n",
      "461049__d-n-audio-uk__broken-egg-squelch.ogg\n",
      "511194__pablobd__headshot.ogg\n",
      "593990__mincedbeats__gel-squelches.ogg\n",
      "splat2ogg-14668.ogg\n",
      "visceralbulletimpacts-6738.ogg\n"
     ]
    }
   ],
   "source": [
    "# convert .ogg to .mp3\n",
    "\n",
    "your_sound_path = \"C:/Program Files (x86)/Steam/steamapps/common/PAYDAY 2/mods/pain_simulation_payday/assets/sounds/downloaded\"\n",
    "from pydub import AudioSegment\n",
    "for dirpath, dirs, files in os.walk(your_sound_path):\n",
    "    for filename in files:\n",
    "        if '.ogg' in filename:\n",
    "            oldfilepath = os.path.join(dirpath, filename)\n",
    "            newfilepath = os.path.join(dirpath, filename.replace('.ogg', '.mp3'))\n",
    "            print(filename)\n",
    "            sound = AudioSegment.from_file(oldfilepath)\n",
    "            sound.export(newfilepath, format=\"mp3\", bitrate=\"128k\")"
   ]
  },
  {
   "cell_type": "code",
   "execution_count": null,
   "id": "frozen-neighbor",
   "metadata": {},
   "outputs": [],
   "source": []
  }
 ],
 "metadata": {
  "kernelspec": {
   "display_name": "Python 3",
   "language": "python",
   "name": "python3"
  },
  "language_info": {
   "codemirror_mode": {
    "name": "ipython",
    "version": 3
   },
   "file_extension": ".py",
   "mimetype": "text/x-python",
   "name": "python",
   "nbconvert_exporter": "python",
   "pygments_lexer": "ipython3",
   "version": "3.9.2"
  }
 },
 "nbformat": 4,
 "nbformat_minor": 5
}
