{
 "cells": [
  {
   "cell_type": "code",
   "execution_count": 8,
   "id": "occupational-barcelona",
   "metadata": {},
   "outputs": [],
   "source": [
    "from typing import Optional\n",
    "\n",
    "from fastapi import FastAPI\n",
    "\n",
    "app = FastAPI()\n",
    "\n",
    "\n",
    "@app.get(\"/\")\n",
    "def read_root():\n",
    "    return {\"Hello\": \"World\"}\n",
    "\n",
    "\n",
    "@app.get(\"/items/{item_id}\")\n",
    "def read_item(item_id: int, q: Optional[str] = None):\n",
    "    return {\"item_id\": item_id, \"q\": q}"
   ]
  },
  {
   "cell_type": "code",
   "execution_count": 10,
   "id": "meaning-lunch",
   "metadata": {},
   "outputs": [],
   "source": [
    "# rename .texture files to .dds in a given folder\n",
    "\n",
    "your_path = \"C:/Program Files (x86)/Steam/steamapps/common/PAYDAY 2/assets/extracted Files/guis/textures/pd2\"\n",
    "import os\n",
    "for dirpath, dirs, files in os.walk(your_path):\n",
    "    \n",
    "    for filename in files:\n",
    "        if '.texture' in filename:\n",
    "            os.rename(\n",
    "                os.path.join(dirpath, filename),\n",
    "                os.path.join(dirpath, filename.replace('.texture', '.dds'))\n",
    "            )"
   ]
  },
  {
   "cell_type": "code",
   "execution_count": null,
   "id": "beautiful-poster",
   "metadata": {},
   "outputs": [],
   "source": []
  }
 ],
 "metadata": {
  "kernelspec": {
   "display_name": "Python 3",
   "language": "python",
   "name": "python3"
  },
  "language_info": {
   "codemirror_mode": {
    "name": "ipython",
    "version": 3
   },
   "file_extension": ".py",
   "mimetype": "text/x-python",
   "name": "python",
   "nbconvert_exporter": "python",
   "pygments_lexer": "ipython3",
   "version": "3.9.2"
  }
 },
 "nbformat": 4,
 "nbformat_minor": 5
}
