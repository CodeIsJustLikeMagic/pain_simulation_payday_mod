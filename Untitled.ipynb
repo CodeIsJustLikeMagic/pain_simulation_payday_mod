{
 "cells": [
  {
   "cell_type": "code",
   "execution_count": null,
   "id": "violent-fetish",
   "metadata": {},
   "outputs": [
    {
     "name": "stdout",
     "output_type": "stream",
     "text": [
      "Server started http://localhost:8001\n",
      "do_Get request path /\n",
      "do_Get request path /\n",
      "do_Get request path /\n",
      "do_Get request path /\n",
      "do_Get request path /\n",
      "do_Get request path /\n",
      "do_Get request path /\n",
      "do_Get request path /\n",
      "do_Get request path /\n",
      "do_Get request path /\n"
     ]
    },
    {
     "name": "stderr",
     "output_type": "stream",
     "text": [
      "127.0.0.1 - - [22/Mar/2022 13:34:22] \"GET / HTTP/1.1\" 200 -\n",
      "127.0.0.1 - - [22/Mar/2022 13:34:22] \"GET / HTTP/1.1\" 200 -\n",
      "127.0.0.1 - - [22/Mar/2022 13:34:22] \"GET / HTTP/1.1\" 200 -\n",
      "127.0.0.1 - - [22/Mar/2022 13:34:22] \"GET / HTTP/1.1\" 200 -\n",
      "127.0.0.1 - - [22/Mar/2022 13:34:22] \"GET / HTTP/1.1\" 200 -\n",
      "127.0.0.1 - - [22/Mar/2022 13:34:22] \"GET / HTTP/1.1\" 200 -\n",
      "127.0.0.1 - - [22/Mar/2022 13:34:22] \"GET / HTTP/1.1\" 200 -\n",
      "127.0.0.1 - - [22/Mar/2022 13:34:22] \"GET / HTTP/1.1\" 200 -\n",
      "127.0.0.1 - - [22/Mar/2022 13:34:22] \"GET / HTTP/1.1\" 200 -\n",
      "127.0.0.1 - - [22/Mar/2022 13:34:22] \"GET / HTTP/1.1\" 200 -\n"
     ]
    },
    {
     "name": "stdout",
     "output_type": "stream",
     "text": [
      "do_Get request path /\n",
      "do_Get request path /\n",
      "do_Get request path /\n",
      "do_Get request path /\n",
      "do_Get request path /\n",
      "do_Get request path /\n",
      "do_Get request path /\n",
      "do_Get request path /\n",
      "do_Get request path /\n",
      "do_Get request path /\n"
     ]
    },
    {
     "name": "stderr",
     "output_type": "stream",
     "text": [
      "127.0.0.1 - - [22/Mar/2022 13:34:26] \"GET / HTTP/1.1\" 200 -\n",
      "127.0.0.1 - - [22/Mar/2022 13:34:26] \"GET / HTTP/1.1\" 200 -\n",
      "127.0.0.1 - - [22/Mar/2022 13:34:26] \"GET / HTTP/1.1\" 200 -\n",
      "127.0.0.1 - - [22/Mar/2022 13:34:26] \"GET / HTTP/1.1\" 200 -\n",
      "127.0.0.1 - - [22/Mar/2022 13:34:26] \"GET / HTTP/1.1\" 200 -\n",
      "127.0.0.1 - - [22/Mar/2022 13:34:26] \"GET / HTTP/1.1\" 200 -\n",
      "127.0.0.1 - - [22/Mar/2022 13:34:26] \"GET / HTTP/1.1\" 200 -\n",
      "127.0.0.1 - - [22/Mar/2022 13:34:26] \"GET / HTTP/1.1\" 200 -\n",
      "127.0.0.1 - - [22/Mar/2022 13:34:26] \"GET / HTTP/1.1\" 200 -\n",
      "127.0.0.1 - - [22/Mar/2022 13:34:26] \"GET / HTTP/1.1\" 200 -\n"
     ]
    }
   ],
   "source": [
    "from http.server import BaseHTTPRequestHandler, HTTPServer\n",
    "\n",
    "hostName = \"localhost\"\n",
    "serverPort = 8001\n",
    "\n",
    "class MyServer(BaseHTTPRequestHandler):\n",
    "    def do_GET(self):\n",
    "        request_path = self.path\n",
    "        print(f\"do_Get request path {request_path}\")\n",
    "        self.send_response(200)\n",
    "        \n",
    "    def do_POST(self):\n",
    "        request_path = self.path\n",
    "        print(f\"do_Post request path {request_path}\")\n",
    "        self.send_response(200)\n",
    "    \n",
    "    do_PUT = do_POST\n",
    "    do_DELETE = do_GET\n",
    "        \n",
    "\n",
    "if __name__ == \"__main__\":        \n",
    "    webServer = HTTPServer((hostName, serverPort), MyServer)\n",
    "    print(\"Server started http://%s:%s\" % (hostName, serverPort))\n",
    "\n",
    "    try:\n",
    "        webServer.serve_forever()\n",
    "    except KeyboardInterrupt:\n",
    "        pass\n",
    "\n",
    "    webServer.server_close()\n",
    "    print(\"Server stopped.\")"
   ]
  },
  {
   "cell_type": "code",
   "execution_count": null,
   "id": "historical-belly",
   "metadata": {},
   "outputs": [],
   "source": []
  }
 ],
 "metadata": {
  "kernelspec": {
   "display_name": "Python 3",
   "language": "python",
   "name": "python3"
  },
  "language_info": {
   "codemirror_mode": {
    "name": "ipython",
    "version": 3
   },
   "file_extension": ".py",
   "mimetype": "text/x-python",
   "name": "python",
   "nbconvert_exporter": "python",
   "pygments_lexer": "ipython3",
   "version": "3.9.2"
  }
 },
 "nbformat": 4,
 "nbformat_minor": 5
}
