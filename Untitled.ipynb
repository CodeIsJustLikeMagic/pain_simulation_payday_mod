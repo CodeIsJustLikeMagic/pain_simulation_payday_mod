{
 "cells": [
  {
   "cell_type": "markdown",
   "id": "serious-slave",
   "metadata": {},
   "source": [
    "**Textures**"
   ]
  },
  {
   "cell_type": "code",
   "execution_count": 1,
   "id": "reasonable-northeast",
   "metadata": {},
   "outputs": [],
   "source": [
    "# convert .png to .dds\n",
    "from wand import image\n",
    "import os\n",
    "texture_path = \"C:/Program Files (x86)/Steam/steamapps/common/PAYDAY 2/mods/pain_simulation_payday/assets/guis/textures\"\n",
    "\n",
    "for dirpath, dirs, files in os.walk(texture_path):\n",
    "    for filename in files:\n",
    "        if '.png' in filename:\n",
    "            with image.Image(filename = os.path.join(dirpath, filename)) as img:\n",
    "                img.compression = 'dxt5'\n",
    "                img.save(filename=os.path.join(dirpath, filename.replace('.png', '.dds')))"
   ]
  },
  {
   "cell_type": "code",
   "execution_count": 2,
   "id": "leading-visibility",
   "metadata": {},
   "outputs": [],
   "source": [
    "# rename .texture files to .dds in a given folder\n",
    "\n",
    "original_fileending = '.dds'\n",
    "new_fileending = '.texture'\n",
    "\n",
    "#sounds: .stream .ogg\n",
    "#visual: .texture .dds\n",
    "\n",
    "texture_path = \"C:/Program Files (x86)/Steam/steamapps/common/PAYDAY 2/mods/pain_simulation_payday/assets/guis/textures\"\n",
    "\n",
    "import os\n",
    "for dirpath, dirs, files in os.walk(texture_path):\n",
    "    \n",
    "    for filename in files:\n",
    "        if original_fileending in filename:\n",
    "            oldfilepath = os.path.join(dirpath, filename)\n",
    "            newfilepath = os.path.join(dirpath, filename.replace(original_fileending, new_fileending))\n",
    "            if os.path.exists(newfilepath):\n",
    "                os.remove(newfilepath)\n",
    "            os.rename(oldfilepath, newfilepath)"
   ]
  },
  {
   "cell_type": "markdown",
   "id": "armed-bowling",
   "metadata": {},
   "source": [
    "**Sound Clips**"
   ]
  },
  {
   "cell_type": "code",
   "execution_count": 17,
   "id": "original-sodium",
   "metadata": {},
   "outputs": [
    {
     "name": "stdout",
     "output_type": "stream",
     "text": [
      "215162__otisjames__thud_lower.ogg\n",
      "511194__pablobd__headshot_v3.ogg\n",
      "511194__pablobd__headshot_v3_faster.ogg\n",
      "511194__pablobd__headshot_v3_lower.ogg\n",
      "612639__newlocknew__heart-beat-2-strong-pounding-blood-flows-in-the-veins-6lrs.ogg\n"
     ]
    },
    {
     "ename": "CouldntDecodeError",
     "evalue": "Decoding failed. ffmpeg returned error code: 1\n\nOutput from ffmpeg/avlib:\n\nffmpeg version 4.2.3 Copyright (c) 2000-2020 the FFmpeg developers\r\n  built with gcc 9.3.1 (GCC) 20200523\r\n  configuration: --enable-gpl --enable-version3 --enable-sdl2 --enable-fontconfig --enable-gnutls --enable-iconv --enable-libass --enable-libdav1d --enable-libbluray --enable-libfreetype --enable-libmp3lame --enable-libopencore-amrnb --enable-libopencore-amrwb --enable-libopenjpeg --enable-libopus --enable-libshine --enable-libsnappy --enable-libsoxr --enable-libtheora --enable-libtwolame --enable-libvpx --enable-libwavpack --enable-libwebp --enable-libx264 --enable-libx265 --enable-libxml2 --enable-libzimg --enable-lzma --enable-zlib --enable-gmp --enable-libvidstab --enable-libvorbis --enable-libvo-amrwbenc --enable-libmysofa --enable-libspeex --enable-libxvid --enable-libaom --enable-libmfx --enable-amf --enable-ffnvcodec --enable-cuvid --enable-d3d11va --enable-nvenc --enable-nvdec --enable-dxva2 --enable-avisynth --enable-libopenmpt\r\n  libavutil      56. 31.100 / 56. 31.100\r\n  libavcodec     58. 54.100 / 58. 54.100\r\n  libavformat    58. 29.100 / 58. 29.100\r\n  libavdevice    58.  8.100 / 58.  8.100\r\n  libavfilter     7. 57.100 /  7. 57.100\r\n  libswscale      5.  5.100 /  5.  5.100\r\n  libswresample   3.  5.100 /  3.  5.100\r\n  libpostproc    55.  5.100 / 55.  5.100\r\n[ogg @ 0000023f723b9480] Format ogg detected only with low score of 1, misdetection possible!\r\nC:/Program Files (x86)/Steam/steamapps/common/PAYDAY 2/mods/pain_simulation_payday/assets/sounds/downloaded\\612639__newlocknew__heart-beat-2-strong-pounding-blood-flows-in-the-veins-6lrs.ogg: End of file\r\n",
     "output_type": "error",
     "traceback": [
      "\u001b[1;31m---------------------------------------------------------------------------\u001b[0m",
      "\u001b[1;31mCouldntDecodeError\u001b[0m                        Traceback (most recent call last)",
      "\u001b[1;32m<ipython-input-17-cdfcb78498cf>\u001b[0m in \u001b[0;36m<module>\u001b[1;34m\u001b[0m\n\u001b[0;32m     14\u001b[0m             \u001b[0mnewfilepath\u001b[0m \u001b[1;33m=\u001b[0m \u001b[0mos\u001b[0m\u001b[1;33m.\u001b[0m\u001b[0mpath\u001b[0m\u001b[1;33m.\u001b[0m\u001b[0mjoin\u001b[0m\u001b[1;33m(\u001b[0m\u001b[0mdirpath\u001b[0m\u001b[1;33m,\u001b[0m \u001b[0mfilename\u001b[0m\u001b[1;33m.\u001b[0m\u001b[0mreplace\u001b[0m\u001b[1;33m(\u001b[0m\u001b[0moriginal_fileending\u001b[0m\u001b[1;33m,\u001b[0m \u001b[0mnew_fileending\u001b[0m\u001b[1;33m)\u001b[0m\u001b[1;33m)\u001b[0m\u001b[1;33m\u001b[0m\u001b[1;33m\u001b[0m\u001b[0m\n\u001b[0;32m     15\u001b[0m             \u001b[0mprint\u001b[0m\u001b[1;33m(\u001b[0m\u001b[0mfilename\u001b[0m\u001b[1;33m)\u001b[0m\u001b[1;33m\u001b[0m\u001b[1;33m\u001b[0m\u001b[0m\n\u001b[1;32m---> 16\u001b[1;33m             \u001b[0msound\u001b[0m \u001b[1;33m=\u001b[0m \u001b[0mAudioSegment\u001b[0m\u001b[1;33m.\u001b[0m\u001b[0mfrom_file\u001b[0m\u001b[1;33m(\u001b[0m\u001b[0moldfilepath\u001b[0m\u001b[1;33m)\u001b[0m\u001b[1;31m#format = original_fileending)\u001b[0m\u001b[1;33m\u001b[0m\u001b[1;33m\u001b[0m\u001b[0m\n\u001b[0m\u001b[0;32m     17\u001b[0m             \u001b[0msound\u001b[0m\u001b[1;33m.\u001b[0m\u001b[0mexport\u001b[0m\u001b[1;33m(\u001b[0m\u001b[0mnewfilepath\u001b[0m\u001b[1;33m,\u001b[0m \u001b[0mformat\u001b[0m\u001b[1;33m=\u001b[0m\u001b[0mnew_fileending\u001b[0m\u001b[1;33m)\u001b[0m \u001b[1;31m# bitrate = \"128k\"\u001b[0m\u001b[1;33m\u001b[0m\u001b[1;33m\u001b[0m\u001b[0m\n",
      "\u001b[1;32mc:\\users\\mummel\\appdata\\local\\programs\\python\\python39\\lib\\site-packages\\pydub\\audio_segment.py\u001b[0m in \u001b[0;36mfrom_file\u001b[1;34m(cls, file, format, codec, parameters, start_second, duration, **kwargs)\u001b[0m\n\u001b[0;32m    771\u001b[0m             \u001b[1;32mif\u001b[0m \u001b[0mclose_file\u001b[0m\u001b[1;33m:\u001b[0m\u001b[1;33m\u001b[0m\u001b[1;33m\u001b[0m\u001b[0m\n\u001b[0;32m    772\u001b[0m                 \u001b[0mfile\u001b[0m\u001b[1;33m.\u001b[0m\u001b[0mclose\u001b[0m\u001b[1;33m(\u001b[0m\u001b[1;33m)\u001b[0m\u001b[1;33m\u001b[0m\u001b[1;33m\u001b[0m\u001b[0m\n\u001b[1;32m--> 773\u001b[1;33m             raise CouldntDecodeError(\n\u001b[0m\u001b[0;32m    774\u001b[0m                 \"Decoding failed. ffmpeg returned error code: {0}\\n\\nOutput from ffmpeg/avlib:\\n\\n{1}\".format(\n\u001b[0;32m    775\u001b[0m                     p.returncode, p_err.decode(errors='ignore') ))\n",
      "\u001b[1;31mCouldntDecodeError\u001b[0m: Decoding failed. ffmpeg returned error code: 1\n\nOutput from ffmpeg/avlib:\n\nffmpeg version 4.2.3 Copyright (c) 2000-2020 the FFmpeg developers\r\n  built with gcc 9.3.1 (GCC) 20200523\r\n  configuration: --enable-gpl --enable-version3 --enable-sdl2 --enable-fontconfig --enable-gnutls --enable-iconv --enable-libass --enable-libdav1d --enable-libbluray --enable-libfreetype --enable-libmp3lame --enable-libopencore-amrnb --enable-libopencore-amrwb --enable-libopenjpeg --enable-libopus --enable-libshine --enable-libsnappy --enable-libsoxr --enable-libtheora --enable-libtwolame --enable-libvpx --enable-libwavpack --enable-libwebp --enable-libx264 --enable-libx265 --enable-libxml2 --enable-libzimg --enable-lzma --enable-zlib --enable-gmp --enable-libvidstab --enable-libvorbis --enable-libvo-amrwbenc --enable-libmysofa --enable-libspeex --enable-libxvid --enable-libaom --enable-libmfx --enable-amf --enable-ffnvcodec --enable-cuvid --enable-d3d11va --enable-nvenc --enable-nvdec --enable-dxva2 --enable-avisynth --enable-libopenmpt\r\n  libavutil      56. 31.100 / 56. 31.100\r\n  libavcodec     58. 54.100 / 58. 54.100\r\n  libavformat    58. 29.100 / 58. 29.100\r\n  libavdevice    58.  8.100 / 58.  8.100\r\n  libavfilter     7. 57.100 /  7. 57.100\r\n  libswscale      5.  5.100 /  5.  5.100\r\n  libswresample   3.  5.100 /  3.  5.100\r\n  libpostproc    55.  5.100 / 55.  5.100\r\n[ogg @ 0000023f723b9480] Format ogg detected only with low score of 1, misdetection possible!\r\nC:/Program Files (x86)/Steam/steamapps/common/PAYDAY 2/mods/pain_simulation_payday/assets/sounds/downloaded\\612639__newlocknew__heart-beat-2-strong-pounding-blood-flows-in-the-veins-6lrs.ogg: End of file\r\n"
     ]
    }
   ],
   "source": [
    "# convert .wav to .ogg\n",
    "\n",
    "sound_path = \"C:/Program Files (x86)/Steam/steamapps/common/PAYDAY 2/mods/pain_simulation_payday/assets/sounds/downloaded\"\n",
    "\n",
    "original_fileending = 'ogg'\n",
    "new_fileending = 'ogg'\n",
    "\n",
    "from pydub import AudioSegment\n",
    "import os\n",
    "for dirpath, dirs, files in os.walk(sound_path):\n",
    "    for filename in files:\n",
    "        if original_fileending in filename:\n",
    "            oldfilepath = os.path.join(dirpath, filename)\n",
    "            newfilepath = os.path.join(dirpath, filename.replace(original_fileending, new_fileending))\n",
    "            print(filename)\n",
    "            sound = AudioSegment.from_file(oldfilepath)#format = original_fileending)\n",
    "            sound.export(newfilepath, format=new_fileending) # bitrate = \"128k\""
   ]
  },
  {
   "cell_type": "code",
   "execution_count": 23,
   "id": "contemporary-prize",
   "metadata": {},
   "outputs": [
    {
     "name": "stdout",
     "output_type": "stream",
     "text": [
      "C:/Program Files (x86)/Steam/steamapps/common/PAYDAY 2/mods/pain_simulation_payday/assets/sounds/downloaded\\visceralbulletimpact_7 - Copy (2).ogg\n"
     ]
    }
   ],
   "source": [
    "# adjust sound\n",
    "sound_path = \"C:/Program Files (x86)/Steam/steamapps/common/PAYDAY 2/mods/pain_simulation_payday/assets/sounds/downloaded\"\n",
    "filename = \"visceralbulletimpact_1.ogg\"\n",
    "volume_adjust = 10\n",
    "\n",
    "from pydub import AudioSegment\n",
    "from pydub.playback import play\n",
    "import os\n",
    "\n",
    "def match_target_amplitude(sound, target_dBFS):\n",
    "    change_in_dBFS = target_dBFS - sound.dBFS\n",
    "    return sound.apply_gain(change_in_dBFS)\n",
    "\n",
    "for filename in ['visceralbulletimpact_7 - Copy (2).ogg']:\n",
    "    \n",
    "        \n",
    "    oldfilepath = os.path.join(sound_path, filename)\n",
    "    newfilepath = os.path.join(sound_path, filename)#sound_file.replace(\".ogg\",\"_v\"+str(volume_adjust)+\".ogg\"))\n",
    "\n",
    "    sound = AudioSegment.from_file(oldfilepath, format=\"ogg\")\n",
    "    sound = sound + volume_adjust #boost volume by 6dB\n",
    "    #sound = match_target_amplitude(sound, 5.0)\n",
    "\n",
    "    sound.export(newfilepath, format=\"ogg\")\n",
    "    print(newfilepath)\n",
    "\n"
   ]
  },
  {
   "cell_type": "code",
   "execution_count": 18,
   "id": "swedish-fever",
   "metadata": {},
   "outputs": [
    {
     "data": {
      "text/plain": [
       "['215162__otisjames__thud_lower.ogg',\n",
       " '511194__pablobd__headshot_v3.ogg',\n",
       " '511194__pablobd__headshot_v3_faster.ogg',\n",
       " '511194__pablobd__headshot_v3_lower.ogg',\n",
       " '612639__newlocknew__heart-beat-2-strong-pounding-blood-flows-in-the-veins-6lrs.ogg',\n",
       " 'splat2ogg-14668.ogg',\n",
       " 'splat2ogg-14668_lower_pitch.ogg',\n",
       " 'visceralbulletimpact_1.ogg',\n",
       " 'visceralbulletimpact_2.ogg',\n",
       " 'visceralbulletimpact_3.ogg',\n",
       " 'visceralbulletimpact_4.ogg',\n",
       " 'visceralbulletimpact_5.ogg',\n",
       " 'visceralbulletimpact_6.ogg',\n",
       " 'visceralbulletimpact_7.ogg']"
      ]
     },
     "execution_count": 18,
     "metadata": {},
     "output_type": "execute_result"
    }
   ],
   "source": [
    "a = []\n",
    "import os\n",
    "for dirpath, dirs, files in os.walk(sound_path):\n",
    "    for filename in files:\n",
    "        a.append(filename)\n",
    "a"
   ]
  },
  {
   "cell_type": "code",
   "execution_count": null,
   "id": "eleven-termination",
   "metadata": {},
   "outputs": [],
   "source": []
  }
 ],
 "metadata": {
  "kernelspec": {
   "display_name": "Python 3",
   "language": "python",
   "name": "python3"
  },
  "language_info": {
   "codemirror_mode": {
    "name": "ipython",
    "version": 3
   },
   "file_extension": ".py",
   "mimetype": "text/x-python",
   "name": "python",
   "nbconvert_exporter": "python",
   "pygments_lexer": "ipython3",
   "version": "3.9.2"
  }
 },
 "nbformat": 4,
 "nbformat_minor": 5
}
