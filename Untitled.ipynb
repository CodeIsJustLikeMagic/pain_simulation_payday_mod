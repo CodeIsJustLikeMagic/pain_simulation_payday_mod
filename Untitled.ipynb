{
 "cells": [
  {
   "cell_type": "markdown",
   "id": "selective-stuff",
   "metadata": {},
   "source": [
    "**Textures**"
   ]
  },
  {
   "cell_type": "code",
   "execution_count": 5,
   "id": "occupational-engagement",
   "metadata": {},
   "outputs": [],
   "source": [
    "# convert .png to .dds\n",
    "from wand import image\n",
    "import os\n",
    "texture_path = \"C:/Program Files (x86)/Steam/steamapps/common/PAYDAY 2/mods/pain_simulation_payday/assets/guis/textures\"\n",
    "\n",
    "for dirpath, dirs, files in os.walk(texture_path):\n",
    "    for filename in files:\n",
    "        if '.png' in filename:\n",
    "            with image.Image(filename = os.path.join(dirpath, filename)) as img:\n",
    "                img.compression = 'dxt5'\n",
    "                img.save(filename=os.path.join(dirpath, filename.replace('.png', '.dds')))"
   ]
  },
  {
   "cell_type": "code",
   "execution_count": 6,
   "id": "combined-brother",
   "metadata": {},
   "outputs": [],
   "source": [
    "# rename .texture files to .dds in a given folder\n",
    "\n",
    "original_fileending = '.dds'\n",
    "new_fileending = '.texture'\n",
    "\n",
    "#sounds: .stream .ogg\n",
    "#visual: .texture .dds\n",
    "\n",
    "texture_path = \"C:/Program Files (x86)/Steam/steamapps/common/PAYDAY 2/mods/pain_simulation_payday/assets/guis/textures\"\n",
    "\n",
    "import os\n",
    "for dirpath, dirs, files in os.walk(texture_path):\n",
    "    \n",
    "    for filename in files:\n",
    "        if original_fileending in filename:\n",
    "            oldfilepath = os.path.join(dirpath, filename)\n",
    "            newfilepath = os.path.join(dirpath, filename.replace(original_fileending, new_fileending))\n",
    "            if os.path.exists(newfilepath):\n",
    "                os.remove(newfilepath)\n",
    "            os.rename(oldfilepath, newfilepath)"
   ]
  },
  {
   "cell_type": "markdown",
   "id": "current-madrid",
   "metadata": {},
   "source": [
    "**Sound Clips**"
   ]
  },
  {
   "cell_type": "code",
   "execution_count": 1,
   "id": "generic-wildlife",
   "metadata": {},
   "outputs": [
    {
     "name": "stdout",
     "output_type": "stream",
     "text": [
      "111048__garyq__gunshot-with-metal-hit.wav\n",
      "113637__edgardedition__thud2.wav\n",
      "257928__kane53126__body-thud.wav\n",
      "350921__cabled-mess__hurt-c-03.wav\n",
      "383720__deleted-user-7146007__breaking-ceramic-tile.wav\n",
      "387478__cosmicembers__dart-thud-1.wav\n",
      "387479__cosmicembers__dart-thud-3.wav\n",
      "387480__cosmicembers__dart-thud-2.wav\n"
     ]
    }
   ],
   "source": [
    "# convert .wav to .ogg\n",
    "\n",
    "sound_path = \"C:/Program Files (x86)/Steam/steamapps/common/PAYDAY 2/mods/pain_simulation_payday/assets/sounds/downloaded\"\n",
    "\n",
    "original_fileending = 'wav'\n",
    "new_fileending = 'ogg'\n",
    "\n",
    "from pydub import AudioSegment\n",
    "import os\n",
    "for dirpath, dirs, files in os.walk(sound_path):\n",
    "    for filename in files:\n",
    "        if original_fileending in filename:\n",
    "            oldfilepath = os.path.join(dirpath, filename)\n",
    "            newfilepath = os.path.join(dirpath, filename.replace(original_fileending, new_fileending))\n",
    "            print(filename)\n",
    "            sound = AudioSegment.from_file(oldfilepath)#format = original_fileending)\n",
    "            sound.export(newfilepath, format=new_fileending) # bitrate = \"128k\""
   ]
  },
  {
   "cell_type": "code",
   "execution_count": 23,
   "id": "silver-russia",
   "metadata": {},
   "outputs": [
    {
     "name": "stdout",
     "output_type": "stream",
     "text": [
      "C:/Program Files (x86)/Steam/steamapps/common/PAYDAY 2/mods/pain_simulation_payday/assets/sounds/downloaded\\visceralbulletimpact_7 - Copy (2).ogg\n"
     ]
    }
   ],
   "source": [
    "# adjust sound\n",
    "sound_path = \"C:/Program Files (x86)/Steam/steamapps/common/PAYDAY 2/mods/pain_simulation_payday/assets/sounds/downloaded\"\n",
    "filename = \"visceralbulletimpact_1.ogg\"\n",
    "volume_adjust = 10\n",
    "\n",
    "from pydub import AudioSegment\n",
    "from pydub.playback import play\n",
    "import os\n",
    "\n",
    "def match_target_amplitude(sound, target_dBFS):\n",
    "    change_in_dBFS = target_dBFS - sound.dBFS\n",
    "    return sound.apply_gain(change_in_dBFS)\n",
    "\n",
    "for filename in ['visceralbulletimpact_7 - Copy (2).ogg']:\n",
    "    \n",
    "        \n",
    "    oldfilepath = os.path.join(sound_path, filename)\n",
    "    newfilepath = os.path.join(sound_path, filename)#sound_file.replace(\".ogg\",\"_v\"+str(volume_adjust)+\".ogg\"))\n",
    "\n",
    "    sound = AudioSegment.from_file(oldfilepath, format=\"ogg\")\n",
    "    sound = sound + volume_adjust #boost volume by 6dB\n",
    "    #sound = match_target_amplitude(sound, 5.0)\n",
    "\n",
    "    sound.export(newfilepath, format=\"ogg\")\n",
    "    print(newfilepath)\n",
    "\n"
   ]
  },
  {
   "cell_type": "code",
   "execution_count": 18,
   "id": "knowing-credit",
   "metadata": {},
   "outputs": [
    {
     "data": {
      "text/plain": [
       "['215162__otisjames__thud_lower.ogg',\n",
       " '511194__pablobd__headshot_v3.ogg',\n",
       " '511194__pablobd__headshot_v3_faster.ogg',\n",
       " '511194__pablobd__headshot_v3_lower.ogg',\n",
       " '612639__newlocknew__heart-beat-2-strong-pounding-blood-flows-in-the-veins-6lrs.ogg',\n",
       " 'splat2ogg-14668.ogg',\n",
       " 'splat2ogg-14668_lower_pitch.ogg',\n",
       " 'visceralbulletimpact_1.ogg',\n",
       " 'visceralbulletimpact_2.ogg',\n",
       " 'visceralbulletimpact_3.ogg',\n",
       " 'visceralbulletimpact_4.ogg',\n",
       " 'visceralbulletimpact_5.ogg',\n",
       " 'visceralbulletimpact_6.ogg',\n",
       " 'visceralbulletimpact_7.ogg']"
      ]
     },
     "execution_count": 18,
     "metadata": {},
     "output_type": "execute_result"
    }
   ],
   "source": [
    "a = []\n",
    "import os\n",
    "for dirpath, dirs, files in os.walk(sound_path):\n",
    "    for filename in files:\n",
    "        a.append(filename)\n",
    "a"
   ]
  },
  {
   "cell_type": "code",
   "execution_count": null,
   "id": "amino-shakespeare",
   "metadata": {},
   "outputs": [],
   "source": []
  }
 ],
 "metadata": {
  "kernelspec": {
   "display_name": "Python 3",
   "language": "python",
   "name": "python3"
  },
  "language_info": {
   "codemirror_mode": {
    "name": "ipython",
    "version": 3
   },
   "file_extension": ".py",
   "mimetype": "text/x-python",
   "name": "python",
   "nbconvert_exporter": "python",
   "pygments_lexer": "ipython3",
   "version": "3.9.2"
  }
 },
 "nbformat": 4,
 "nbformat_minor": 5
}
