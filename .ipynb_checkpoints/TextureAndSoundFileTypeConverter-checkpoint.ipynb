{
 "cells": [
  {
   "cell_type": "markdown",
   "id": "advised-victim",
   "metadata": {},
   "source": [
    "**Textures**"
   ]
  },
  {
   "cell_type": "code",
   "execution_count": 1,
   "id": "approved-investigation",
   "metadata": {},
   "outputs": [],
   "source": [
    "# convert .png to .dds\n",
    "from wand import image\n",
    "import os\n",
    "texture_path = \"C:/Program Files (x86)/Steam/steamapps/common/PAYDAY 2/mods/pain_simulation_payday/assets/guis/textures\"\n",
    "\n",
    "for dirpath, dirs, files in os.walk(texture_path):\n",
    "    for filename in files:\n",
    "        if '.png' in filename:\n",
    "            with image.Image(filename = os.path.join(dirpath, filename)) as img:\n",
    "                img.compression = 'dxt5'\n",
    "                img.save(filename=os.path.join(dirpath, filename.replace('.png', '.dds')))"
   ]
  },
  {
   "cell_type": "code",
   "execution_count": 2,
   "id": "southeast-carpet",
   "metadata": {},
   "outputs": [],
   "source": [
    "# rename .texture files to .dds in a given folder\n",
    "\n",
    "original_fileending = '.dds'\n",
    "new_fileending = '.texture'\n",
    "\n",
    "#sounds: .stream .ogg\n",
    "#visual: .texture .dds\n",
    "\n",
    "texture_path = \"C:/Program Files (x86)/Steam/steamapps/common/PAYDAY 2/mods/pain_simulation_payday/assets/guis/textures\"\n",
    "\n",
    "import os\n",
    "for dirpath, dirs, files in os.walk(texture_path):\n",
    "    \n",
    "    for filename in files:\n",
    "        if original_fileending in filename:\n",
    "            oldfilepath = os.path.join(dirpath, filename)\n",
    "            newfilepath = os.path.join(dirpath, filename.replace(original_fileending, new_fileending))\n",
    "            if os.path.exists(newfilepath):\n",
    "                os.remove(newfilepath)\n",
    "            os.rename(oldfilepath, newfilepath)"
   ]
  },
  {
   "cell_type": "markdown",
   "id": "democratic-deviation",
   "metadata": {},
   "source": [
    "**Sound Clips**"
   ]
  },
  {
   "cell_type": "code",
   "execution_count": 9,
   "id": "frozen-neighbor",
   "metadata": {},
   "outputs": [
    {
     "name": "stdout",
     "output_type": "stream",
     "text": [
      "215162__otisjames__thud.wav\n"
     ]
    }
   ],
   "source": [
    "# convert .wav to .ogg\n",
    "\n",
    "sound_path = \"C:/Program Files (x86)/Steam/steamapps/common/PAYDAY 2/mods/pain_simulation_payday/assets/sounds/downloaded\"\n",
    "\n",
    "original_fileending = 'wav'\n",
    "new_fileending = 'ogg'\n",
    "\n",
    "from pydub import AudioSegment\n",
    "import os\n",
    "for dirpath, dirs, files in os.walk(sound_path):\n",
    "    for filename in files:\n",
    "        if original_fileending in filename:\n",
    "            oldfilepath = os.path.join(dirpath, filename)\n",
    "            newfilepath = os.path.join(dirpath, filename.replace(original_fileending, new_fileending))\n",
    "            print(filename)\n",
    "            sound = AudioSegment.from_file(oldfilepath, format = original_fileending)\n",
    "            sound.export(newfilepath, format=new_fileending) # bitrate = \"128k\""
   ]
  },
  {
   "cell_type": "code",
   "execution_count": 10,
   "id": "descending-clothing",
   "metadata": {},
   "outputs": [
    {
     "name": "stdout",
     "output_type": "stream",
     "text": [
      "C:/Program Files (x86)/Steam/steamapps/common/PAYDAY 2/mods/pain_simulation_payday/assets/sounds/downloaded\\215162__otisjames__thud.ogg\n"
     ]
    }
   ],
   "source": [
    "# adjust sound\n",
    "sound_path = \"C:/Program Files (x86)/Steam/steamapps/common/PAYDAY 2/mods/pain_simulation_payday/assets/sounds/downloaded\"\n",
    "sound_file = \"215162__otisjames__thud.ogg\"\n",
    "volume_adjust = 4\n",
    "\n",
    "from pydub import AudioSegment\n",
    "from pydub.playback import play\n",
    "\n",
    "oldfilepath = os.path.join(sound_path, sound_file)\n",
    "newfilepath = os.path.join(sound_path, sound_file)#sound_file.replace(\".ogg\",\"_v\"+str(volume_adjust)+\".ogg\"))\n",
    "\n",
    "sound = AudioSegment.from_file(oldfilepath, format=\"ogg\")\n",
    "sound = sound + volume_adjust #boost volume by 6dB\n",
    "\n",
    "#play(sound)\n",
    "\n",
    "sound.export(newfilepath, format=\"ogg\")\n",
    "print(newfilepath)"
   ]
  },
  {
   "cell_type": "code",
   "execution_count": null,
   "id": "australian-advice",
   "metadata": {},
   "outputs": [],
   "source": []
  },
  {
   "cell_type": "code",
   "execution_count": null,
   "id": "announced-switch",
   "metadata": {},
   "outputs": [],
   "source": []
  }
 ],
 "metadata": {
  "kernelspec": {
   "display_name": "Python 3",
   "language": "python",
   "name": "python3"
  },
  "language_info": {
   "codemirror_mode": {
    "name": "ipython",
    "version": 3
   },
   "file_extension": ".py",
   "mimetype": "text/x-python",
   "name": "python",
   "nbconvert_exporter": "python",
   "pygments_lexer": "ipython3",
   "version": "3.9.2"
  }
 },
 "nbformat": 4,
 "nbformat_minor": 5
}
